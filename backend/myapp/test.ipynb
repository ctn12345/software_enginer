{
 "cells": [
  {
   "cell_type": "code",
   "execution_count": 6,
   "metadata": {},
   "outputs": [
    {
     "name": "stdout",
     "output_type": "stream",
     "text": [
      "<Response [200]>\n",
      "<Response [200]>\n",
      "<Response [200]>\n"
     ]
    }
   ],
   "source": [
    "# register \n",
    "\n",
    "import requests\n",
    "import json\n",
    "# 测试用例\n",
    "travel_agiency = [{\"travel_name\":\"纳个旅行社\", 'account':\"ctn123\", \"password\":\"123456\",\"phone_number\":\"1370120\"},\n",
    "                  {\"travel_name\":\"黑虎旅行社\", 'account':\"woshiheihu\", \"password\":\"heihu123\",\"phone_number\":\"1866801\"},\n",
    "                  {\"travel_name\":\"乌喵财旅行社\", 'account':\"zkrssg123\", \"password\":\"zkr12345\",\"phone_number\":\"136662\"},]\n",
    "\n",
    "\n",
    "\n",
    "headers = {'Content-Type': 'application/json'}\n",
    "for per_data in travel_agiency:\n",
    "    s = requests.post(url='http://127.0.0.1:8000/api/register/', headers=headers, data=json.dumps(per_data))\n",
    "    # time.sleep(1)\n",
    "    print(s)\n",
    "# s = requests.get(url='http://127.0.0.1:8000/api/login/')\n",
    "\n"
   ]
  },
  {
   "cell_type": "code",
   "execution_count": 1,
   "metadata": {},
   "outputs": [
    {
     "name": "stdout",
     "output_type": "stream",
     "text": [
      "2023-05-15 12:30:00\n"
     ]
    }
   ],
   "source": [
    "# test \n",
    "\n",
    "import requests\n",
    "import json\n",
    "from datetime import datetime\n",
    "# 测试用例\n",
    "flight = [{'flight_number':'zjut1',\"from_date\":\"2023-05-15T12:30:00\",\"arrived_date\":\"2023-05-15T15:30:00\",\"from_location\":\"杭州\",\"destination\":\"新疆\",\"avilable_seat\"}]\n",
    "iso_format = \"2023-05-15T12:30:00\"\n",
    "parsed_time = datetime.fromisoformat(iso_format)\n",
    "\n",
    "custom_time = datetime(year=2023, month=5, day=15, hour=12, minute=30)\n",
    "print(custom_time)\n",
    "# headers = {'Content-Type': 'application/json'}\n",
    "# per_data = {\"travel_name\":\"纳个旅行社\", \"\"}\n",
    "# s = requests.post(url='http://127.0.0.1:8000/api/search_order/', headers=headers, data=json.dumps(per_data))\n",
    "# for per_data in travel_agiency:\n",
    "#     s = requests.post(url='http://127.0.0.1:8000/api/register/', headers=headers, data=json.dumps(per_data))\n",
    "#     # time.sleep(1)\n",
    "#     print(s)"
   ]
  },
  {
   "cell_type": "code",
   "execution_count": 10,
   "metadata": {},
   "outputs": [
    {
     "name": "stdout",
     "output_type": "stream",
     "text": [
      "<Response [200]>\n"
     ]
    }
   ],
   "source": [
    "\n",
    "import requests\n",
    "import json\n",
    "headers = {'Content-Type': 'application/json'}\n",
    "\n",
    "s = requests.post(url='http://127.0.0.1:8000/api/search_order/', headers=headers, data=json.dumps({\"travel_name\":\"hermagency\",\"selectdate\":\"2023-12-31\"}))\n",
    "print(s)"
   ]
  },
  {
   "cell_type": "code",
   "execution_count": 34,
   "metadata": {},
   "outputs": [
    {
     "name": "stdout",
     "output_type": "stream",
     "text": [
      "<Response [200]>\n"
     ]
    }
   ],
   "source": [
    "\n",
    "import requests\n",
    "import json\n",
    "headers = {'Content-Type': 'application/json'}\n",
    "\n",
    "s = requests.post(url='http://127.0.0.1:8000/api/select_date_travelname/', headers=headers, data=json.dumps({\"travel_agency_name\":\"yedyagency\",\"from_date\":\"2023-01-01\"}))\n",
    "print(s)"
   ]
  }
 ],
 "metadata": {
  "kernelspec": {
   "display_name": "base",
   "language": "python",
   "name": "python3"
  },
  "language_info": {
   "codemirror_mode": {
    "name": "ipython",
    "version": 3
   },
   "file_extension": ".py",
   "mimetype": "text/x-python",
   "name": "python",
   "nbconvert_exporter": "python",
   "pygments_lexer": "ipython3",
   "version": "3.9.13"
  }
 },
 "nbformat": 4,
 "nbformat_minor": 2
}
